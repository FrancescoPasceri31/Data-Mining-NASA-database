{
 "cells": [
  {
   "cell_type": "markdown",
   "metadata": {},
   "source": [
    "Progetto Data Mining A.A. 2019/2020\n",
    "=====\n",
    "\n",
    "Asteroidi e comete: analisi del diametro, dell'orbita e della pericolosità\n",
    "---\n",
    "\n",
    "Francesco Pasceri matricola 204963"
   ]
  },
  {
   "cell_type": "code",
   "execution_count": 1,
   "metadata": {},
   "outputs": [],
   "source": [
    "import numpy as np\n",
    "import pandas as pd\n",
    "import matplotlib.pyplot as plt\n",
    "import seaborn as sns\n",
    "import pickle\n",
    "\n",
    "from sklearn.preprocessing import StandardScaler\n",
    "from sklearn.metrics import roc_auc_score, roc_curve, confusion_matrix, classification_report, accuracy_score, f1_score\n",
    "from sklearn.model_selection import cross_validate, train_test_split, cross_val_score\n",
    "\n",
    "from sklearn.linear_model import LogisticRegression"
   ]
  },
  {
   "cell_type": "markdown",
   "metadata": {},
   "source": [
    "Fase 5 Parte 2: Anomaly Detection\n",
    "---"
   ]
  },
  {
   "cell_type": "markdown",
   "metadata": {},
   "source": [
    "<b><u>\n",
    "Questa seconda parte della fase di Anomaly Detection prevede una semplice applicazione di una classificatore per distinguere in maniera interessante i dati PHA e NON PHA.\n",
    "</u></b>"
   ]
  },
  {
   "cell_type": "markdown",
   "metadata": {},
   "source": [
    "## 1. Import dati e splitting"
   ]
  },
  {
   "cell_type": "code",
   "execution_count": 2,
   "metadata": {},
   "outputs": [
    {
     "data": {
      "text/html": [
       "<div>\n",
       "<style scoped>\n",
       "    .dataframe tbody tr th:only-of-type {\n",
       "        vertical-align: middle;\n",
       "    }\n",
       "\n",
       "    .dataframe tbody tr th {\n",
       "        vertical-align: top;\n",
       "    }\n",
       "\n",
       "    .dataframe thead th {\n",
       "        text-align: right;\n",
       "    }\n",
       "</style>\n",
       "<table border=\"1\" class=\"dataframe\">\n",
       "  <thead>\n",
       "    <tr style=\"text-align: right;\">\n",
       "      <th></th>\n",
       "      <th>0</th>\n",
       "      <th>1</th>\n",
       "      <th>2</th>\n",
       "      <th>3</th>\n",
       "      <th>4</th>\n",
       "      <th>5</th>\n",
       "      <th>6</th>\n",
       "      <th>7</th>\n",
       "      <th>8</th>\n",
       "      <th>9</th>\n",
       "    </tr>\n",
       "  </thead>\n",
       "  <tbody>\n",
       "    <tr>\n",
       "      <th>0</th>\n",
       "      <td>0.355850</td>\n",
       "      <td>0.0</td>\n",
       "      <td>4.470014</td>\n",
       "      <td>1.012044</td>\n",
       "      <td>4.887857</td>\n",
       "      <td>4.771895</td>\n",
       "      <td>1.184923</td>\n",
       "      <td>2.197532</td>\n",
       "      <td>1.288058</td>\n",
       "      <td>1.275566</td>\n",
       "    </tr>\n",
       "    <tr>\n",
       "      <th>1</th>\n",
       "      <td>0.198753</td>\n",
       "      <td>0.0</td>\n",
       "      <td>4.166766</td>\n",
       "      <td>0.728209</td>\n",
       "      <td>3.512450</td>\n",
       "      <td>3.944208</td>\n",
       "      <td>1.194897</td>\n",
       "      <td>2.074658</td>\n",
       "      <td>1.310161</td>\n",
       "      <td>0.901589</td>\n",
       "    </tr>\n",
       "    <tr>\n",
       "      <th>2</th>\n",
       "      <td>1.217498</td>\n",
       "      <td>0.0</td>\n",
       "      <td>2.371068</td>\n",
       "      <td>0.908182</td>\n",
       "      <td>0.000000</td>\n",
       "      <td>2.151043</td>\n",
       "      <td>1.144641</td>\n",
       "      <td>1.916535</td>\n",
       "      <td>0.491455</td>\n",
       "      <td>1.265974</td>\n",
       "    </tr>\n",
       "    <tr>\n",
       "      <th>3</th>\n",
       "      <td>0.685564</td>\n",
       "      <td>0.0</td>\n",
       "      <td>3.684597</td>\n",
       "      <td>0.937674</td>\n",
       "      <td>2.106689</td>\n",
       "      <td>3.938996</td>\n",
       "      <td>1.428103</td>\n",
       "      <td>1.933332</td>\n",
       "      <td>0.655044</td>\n",
       "      <td>1.422925</td>\n",
       "    </tr>\n",
       "    <tr>\n",
       "      <th>4</th>\n",
       "      <td>0.583566</td>\n",
       "      <td>0.0</td>\n",
       "      <td>1.183411</td>\n",
       "      <td>0.426976</td>\n",
       "      <td>0.000000</td>\n",
       "      <td>0.979514</td>\n",
       "      <td>0.890255</td>\n",
       "      <td>1.334154</td>\n",
       "      <td>0.564871</td>\n",
       "      <td>1.236603</td>\n",
       "    </tr>\n",
       "  </tbody>\n",
       "</table>\n",
       "</div>"
      ],
      "text/plain": [
       "          0    1         2         3         4         5         6         7  \\\n",
       "0  0.355850  0.0  4.470014  1.012044  4.887857  4.771895  1.184923  2.197532   \n",
       "1  0.198753  0.0  4.166766  0.728209  3.512450  3.944208  1.194897  2.074658   \n",
       "2  1.217498  0.0  2.371068  0.908182  0.000000  2.151043  1.144641  1.916535   \n",
       "3  0.685564  0.0  3.684597  0.937674  2.106689  3.938996  1.428103  1.933332   \n",
       "4  0.583566  0.0  1.183411  0.426976  0.000000  0.979514  0.890255  1.334154   \n",
       "\n",
       "          8         9  \n",
       "0  1.288058  1.275566  \n",
       "1  1.310161  0.901589  \n",
       "2  0.491455  1.265974  \n",
       "3  0.655044  1.422925  \n",
       "4  0.564871  1.236603  "
      ]
     },
     "execution_count": 2,
     "metadata": {},
     "output_type": "execute_result"
    }
   ],
   "source": [
    "with open('lat_x','rb') as f:\n",
    "    rep_x = pickle.load(f)\n",
    "    \n",
    "with open('lat_y','rb') as f:\n",
    "    rep_y = pickle.load(f)\n",
    "    \n",
    "data_ = pd.DataFrame(rep_x)\n",
    "labels_ = pd.Series(rep_y)\n",
    "\n",
    "data_.head()"
   ]
  },
  {
   "cell_type": "code",
   "execution_count": 3,
   "metadata": {},
   "outputs": [
    {
     "name": "stdout",
     "output_type": "stream",
     "text": [
      "no pha: 3000.0 \n",
      "pha: 323.0\n"
     ]
    }
   ],
   "source": [
    "counts = labels_.value_counts() * 1.\n",
    "print('no pha:',counts[1], '\\npha:', counts[-1])"
   ]
  },
  {
   "cell_type": "code",
   "execution_count": 4,
   "metadata": {},
   "outputs": [
    {
     "name": "stdout",
     "output_type": "stream",
     "text": [
      "outlier_fract 0.09720132410472465\n"
     ]
    }
   ],
   "source": [
    "outlier_fraction = counts[-1] / (counts[1] + counts[-1]) \n",
    "print('outlier_fract', outlier_fraction)"
   ]
  },
  {
   "cell_type": "code",
   "execution_count": 13,
   "metadata": {},
   "outputs": [
    {
     "name": "stdout",
     "output_type": "stream",
     "text": [
      "(2658, 10) (665, 10)\n"
     ]
    }
   ],
   "source": [
    "train_x, test_x, train_y, test_y = train_test_split(rep_x, rep_y, test_size=0.2)\n",
    "\n",
    "print(train_x.shape, test_x.shape)"
   ]
  },
  {
   "cell_type": "markdown",
   "metadata": {},
   "source": [
    "## 2. Applicazione del LogisticRegressor"
   ]
  },
  {
   "cell_type": "code",
   "execution_count": 14,
   "metadata": {},
   "outputs": [
    {
     "name": "stdout",
     "output_type": "stream",
     "text": [
      "\n",
      "Classification Report: \n"
     ]
    },
    {
     "data": {
      "text/html": [
       "<div>\n",
       "<style scoped>\n",
       "    .dataframe tbody tr th:only-of-type {\n",
       "        vertical-align: middle;\n",
       "    }\n",
       "\n",
       "    .dataframe tbody tr th {\n",
       "        vertical-align: top;\n",
       "    }\n",
       "\n",
       "    .dataframe thead th {\n",
       "        text-align: right;\n",
       "    }\n",
       "</style>\n",
       "<table border=\"1\" class=\"dataframe\">\n",
       "  <thead>\n",
       "    <tr style=\"text-align: right;\">\n",
       "      <th></th>\n",
       "      <th>precision</th>\n",
       "      <th>recall</th>\n",
       "      <th>f1-score</th>\n",
       "      <th>support</th>\n",
       "    </tr>\n",
       "  </thead>\n",
       "  <tbody>\n",
       "    <tr>\n",
       "      <th>-1.0</th>\n",
       "      <td>0.892308</td>\n",
       "      <td>0.983051</td>\n",
       "      <td>0.935484</td>\n",
       "      <td>59.00000</td>\n",
       "    </tr>\n",
       "    <tr>\n",
       "      <th>1.0</th>\n",
       "      <td>0.998333</td>\n",
       "      <td>0.988449</td>\n",
       "      <td>0.993367</td>\n",
       "      <td>606.00000</td>\n",
       "    </tr>\n",
       "    <tr>\n",
       "      <th>accuracy</th>\n",
       "      <td>0.987970</td>\n",
       "      <td>0.987970</td>\n",
       "      <td>0.987970</td>\n",
       "      <td>0.98797</td>\n",
       "    </tr>\n",
       "    <tr>\n",
       "      <th>macro avg</th>\n",
       "      <td>0.945321</td>\n",
       "      <td>0.985750</td>\n",
       "      <td>0.964425</td>\n",
       "      <td>665.00000</td>\n",
       "    </tr>\n",
       "    <tr>\n",
       "      <th>weighted avg</th>\n",
       "      <td>0.988927</td>\n",
       "      <td>0.987970</td>\n",
       "      <td>0.988231</td>\n",
       "      <td>665.00000</td>\n",
       "    </tr>\n",
       "  </tbody>\n",
       "</table>\n",
       "</div>"
      ],
      "text/plain": [
       "              precision    recall  f1-score    support\n",
       "-1.0           0.892308  0.983051  0.935484   59.00000\n",
       "1.0            0.998333  0.988449  0.993367  606.00000\n",
       "accuracy       0.987970  0.987970  0.987970    0.98797\n",
       "macro avg      0.945321  0.985750  0.964425  665.00000\n",
       "weighted avg   0.988927  0.987970  0.988231  665.00000"
      ]
     },
     "metadata": {},
     "output_type": "display_data"
    },
    {
     "name": "stdout",
     "output_type": "stream",
     "text": [
      "\n",
      "Confusion matrix: \n"
     ]
    },
    {
     "data": {
      "text/html": [
       "<div>\n",
       "<style scoped>\n",
       "    .dataframe tbody tr th:only-of-type {\n",
       "        vertical-align: middle;\n",
       "    }\n",
       "\n",
       "    .dataframe tbody tr th {\n",
       "        vertical-align: top;\n",
       "    }\n",
       "\n",
       "    .dataframe thead th {\n",
       "        text-align: right;\n",
       "    }\n",
       "</style>\n",
       "<table border=\"1\" class=\"dataframe\">\n",
       "  <thead>\n",
       "    <tr style=\"text-align: right;\">\n",
       "      <th></th>\n",
       "      <th>0</th>\n",
       "      <th>1</th>\n",
       "    </tr>\n",
       "  </thead>\n",
       "  <tbody>\n",
       "    <tr>\n",
       "      <th>0</th>\n",
       "      <td>58</td>\n",
       "      <td>1</td>\n",
       "    </tr>\n",
       "    <tr>\n",
       "      <th>1</th>\n",
       "      <td>7</td>\n",
       "      <td>599</td>\n",
       "    </tr>\n",
       "  </tbody>\n",
       "</table>\n",
       "</div>"
      ],
      "text/plain": [
       "    0    1\n",
       "0  58    1\n",
       "1   7  599"
      ]
     },
     "metadata": {},
     "output_type": "display_data"
    }
   ],
   "source": [
    "clf = LogisticRegression(solver=\"lbfgs\").fit(train_x, train_y)\n",
    "pred_y = clf.predict(test_x)\n",
    "\n",
    "print(\"\")\n",
    "print (\"Classification Report: \")\n",
    "report = classification_report(test_y, pred_y, output_dict=True)\n",
    "dt = pd.DataFrame( report ).transpose()\n",
    "display(dt)\n",
    "\n",
    "print(\"\")\n",
    "print(\"Confusion matrix: \")\n",
    "dt = pd.DataFrame( confusion_matrix(y_pred=pred_y, y_true=test_y) )\n",
    "display(dt)"
   ]
  }
 ],
 "metadata": {
  "kernelspec": {
   "display_name": "Python 3",
   "language": "python",
   "name": "python3"
  },
  "language_info": {
   "codemirror_mode": {
    "name": "ipython",
    "version": 3
   },
   "file_extension": ".py",
   "mimetype": "text/x-python",
   "name": "python",
   "nbconvert_exporter": "python",
   "pygments_lexer": "ipython3",
   "version": "3.6.9"
  }
 },
 "nbformat": 4,
 "nbformat_minor": 2
}
